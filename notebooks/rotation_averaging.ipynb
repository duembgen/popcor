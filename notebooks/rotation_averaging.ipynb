{
 "cells": [
  {
   "cell_type": "markdown",
   "id": "b56347d1",
   "metadata": {},
   "source": [
    "# Rotation averaging example\n",
    "\n",
    "This example script demonstrates how to solve rotation averaging problems using AutoTight."
   ]
  },
  {
   "cell_type": "code",
   "execution_count": null,
   "id": "ed5be9cc-ad44-421a-b852-d44fc37c42ed",
   "metadata": {},
   "outputs": [],
   "source": [
    "%reload_ext autoreload\n",
    "%autoreload 2"
   ]
  },
  {
   "cell_type": "markdown",
   "id": "e258188b",
   "metadata": {},
   "source": [
    "## Setup a new problem and solve it locally\n",
    "\n",
    "We initialize either from ground truth or from randomly sampled rotations "
   ]
  },
  {
   "cell_type": "code",
   "execution_count": null,
   "id": "3c8c3215",
   "metadata": {},
   "outputs": [],
   "source": [
    "import matplotlib.pyplot as plt\n",
    "import numpy as np\n",
    "\n",
    "from popcor.examples import RotationLifter\n",
    "\n",
    "np.random.seed(2)\n",
    "lifter = RotationLifter(d=3, n_abs=1, n_rot=4)\n",
    "\n",
    "y = lifter.simulate_y(noise=0.2)\n",
    "\n",
    "theta_gt, *_ = lifter.local_solver(lifter.theta, y, verbose=False)\n",
    "estimates = {\"init gt\": theta_gt}\n",
    "for i in range(10):\n",
    "    theta_init = lifter.sample_theta()\n",
    "    theta_i, *_ = lifter.local_solver(theta_init, y, verbose=False)\n",
    "    estimates[f\"init random {i}\"] = theta_i\n",
    "\n",
    "fig, ax = lifter.plot(estimates=estimates)\n",
    "ax.legend([])\n",
    "plt.show(block=False)"
   ]
  },
  {
   "cell_type": "markdown",
   "id": "da3c8b79-8d8e-497c-9761-21b678450217",
   "metadata": {},
   "source": [
    "## Solve the rotation averaging with an SDP"
   ]
  },
  {
   "cell_type": "code",
   "execution_count": null,
   "id": "64bbdf6b",
   "metadata": {},
   "outputs": [],
   "source": [
    "from popcor.utils.plotting_tools import plot_matrix\n",
    "\n",
    "Q = lifter.get_Q_from_y(y=y)\n",
    "A_known = lifter.get_A_known()\n",
    "constraints = lifter.get_A_b_list(lifter.get_A_known())\n",
    "\n",
    "A_plot = A_known[:5]\n",
    "fig, axs = plt.subplots(1, len(A_plot) + 1)\n",
    "fig.set_size_inches(3 * (len(A_plot) + 1), 3)\n",
    "for i in range(len(A_plot)):\n",
    "    plot_matrix(A_plot[i].toarray(), ax=axs[i], title=f\"A{i} \", colorbar=False)\n",
    "fig = plot_matrix(Q.toarray(), ax=axs[i + 1], title=\"Q\", colorbar=False)"
   ]
  },
  {
   "cell_type": "code",
   "execution_count": null,
   "id": "be73dc95",
   "metadata": {},
   "outputs": [],
   "source": [
    "from cert_tools.sdp_solvers import solve_sdp\n",
    "from cert_tools.linalg_tools import rank_project\n",
    "\n",
    "X, info = solve_sdp(Q, constraints, verbose=False)\n",
    "\n",
    "x, info_rank = rank_project(X, p=1)\n",
    "print(f\"EVR: {info_rank['EVR']:.2e}\")\n",
    "\n",
    "theta_opt = lifter.get_theta(x.flatten())\n",
    "\n",
    "estimates = {\"init gt\": theta_gt, \"SDP\": theta_opt}\n",
    "fig, ax = lifter.plot(estimates=estimates)"
   ]
  },
  {
   "cell_type": "markdown",
   "id": "b7c84433-d923-403b-92a1-bd5ab3e0ce92",
   "metadata": {},
   "source": [
    "## Conclusion\n",
    "\n",
    "This problem quite easy! No redundant measurements are required for tightness, even up to very high noise levels."
   ]
  },
  {
   "cell_type": "code",
   "execution_count": null,
   "id": "563a21f1-3705-4dc7-99cd-01b916d56184",
   "metadata": {},
   "outputs": [],
   "source": [
    "data = []\n",
    "for noise in np.logspace(-3, 2, 6):\n",
    "    for i in range(10):\n",
    "        np.random.seed(i)\n",
    "        lifter = RotationLifter(d=3, n_abs=1, n_rot=4)\n",
    "        y = lifter.simulate_y(noise=noise)\n",
    "        Q = lifter.get_Q_from_y(y=y)\n",
    "        A_known = lifter.get_A_known()\n",
    "        constraints = lifter.get_A_b_list(lifter.get_A_known())\n",
    "        X, info = solve_sdp(Q, constraints, verbose=False)\n",
    "        x, info_rank = rank_project(X, p=1)\n",
    "        data.append({\"seed\": i, \"noise\": noise, \"EVR\": info_rank[\"EVR\"]})"
   ]
  },
  {
   "cell_type": "code",
   "execution_count": null,
   "id": "df6b3146",
   "metadata": {},
   "outputs": [],
   "source": [
    "import pandas as pd\n",
    "import seaborn as sns\n",
    "df = pd.DataFrame(data)\n",
    "fig, ax =plt.subplots()\n",
    "sns.scatterplot(df, x=\"noise\", y=\"EVR\", ax=ax)\n",
    "ax.set_xscale(\"log\")\n",
    "ax.set_yscale(\"log\")"
   ]
  },
  {
   "cell_type": "code",
   "execution_count": null,
   "id": "fbf60376",
   "metadata": {},
   "outputs": [],
   "source": []
  }
 ],
 "metadata": {
  "kernelspec": {
   "display_name": "Python 3 (ipykernel)",
   "language": "python",
   "name": "python3"
  },
  "language_info": {
   "codemirror_mode": {
    "name": "ipython",
    "version": 3
   },
   "file_extension": ".py",
   "mimetype": "text/x-python",
   "name": "python",
   "nbconvert_exporter": "python",
   "pygments_lexer": "ipython3",
   "version": "3.10.17"
  }
 },
 "nbformat": 4,
 "nbformat_minor": 5
}
