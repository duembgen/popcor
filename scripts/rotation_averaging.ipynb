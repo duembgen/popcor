{
 "cells": [
  {
   "cell_type": "markdown",
   "id": "b56347d1",
   "metadata": {},
   "source": [
    "# Rotation averaging example\n",
    "\n",
    "This example script demonstrates how to solve rotation averaging problems using AutoTight."
   ]
  },
  {
   "cell_type": "code",
   "execution_count": null,
   "id": "3c8c3215",
   "metadata": {},
   "outputs": [],
   "source": [
    "import matplotlib.pyplot as plt\n",
    "import numpy as np\n",
    "\n",
    "from popr.examples import RotationLifter\n",
    "\n",
    "lifter = RotationLifter(d=3, n_meas=3)\n",
    "\n",
    "# solve the rotation averaging problem locally.\n",
    "y = lifter.simulate_y(noise=1e-1)\n",
    "\n",
    "theta_gt, *_ = lifter.local_solver(lifter.theta, y, verbose=False)\n",
    "estimates = {\"init gt\": theta_gt}\n",
    "for i in range(10):\n",
    "    theta_init = lifter.sample_theta()\n",
    "    theta_i, *_ = lifter.local_solver(theta_init, y, verbose=False)\n",
    "    estimates[f\"init random {i}\"] = theta_i\n",
    "\n",
    "fig, ax = lifter.plot(estimates=estimates)\n",
    "ax.legend([])\n",
    "plt.show(block=False)\n",
    "print(\"done\")"
   ]
  },
  {
   "cell_type": "code",
   "execution_count": null,
   "id": "64bbdf6b",
   "metadata": {},
   "outputs": [],
   "source": [
    "# solve the rotation averaging with a naive SDP.\n",
    "from popr.utils.plotting_tools import plot_matrix\n",
    "\n",
    "Q = lifter.get_Q()\n",
    "A_known = lifter.get_A_known()\n",
    "constraints = lifter.get_A_b_list(lifter.get_A_known())\n",
    "\n",
    "fig, axs = plt.subplots(1, len(A_known) + 1)\n",
    "fig.set_size_inches(3*(len(A_known) + 1), 3)\n",
    "for i in range(len(A_known)):\n",
    "    plot_matrix(A_known[i].toarray(), ax=axs[i], title=f\"A{i} \", colorbar=False)\n",
    "plot_matrix(Q.toarray(), ax=axs[i+1], title=\"Q\", colorbar=False)"
   ]
  },
  {
   "cell_type": "code",
   "execution_count": null,
   "id": "be73dc95",
   "metadata": {},
   "outputs": [],
   "source": [
    "from cert_tools.sdp_solvers import solve_sdp\n",
    "from cert_tools.linalg_tools import rank_project\n",
    "\n",
    "X, info = solve_sdp(Q, constraints, verbose=False)\n",
    "\n",
    "x, info_rank = rank_project(X, p=1)\n",
    "print(f\"EVR: {info_rank['EVR']:.2e}\")\n",
    "\n",
    "theta_opt = lifter.get_theta(x.flatten())\n",
    "\n",
    "estimates = {\"init gt\": theta_gt, \"SDP\": theta_opt}\n",
    "fig, ax = lifter.plot(estimates=estimates)"
   ]
  }
 ],
 "metadata": {
  "kernelspec": {
   "display_name": "popr",
   "language": "python",
   "name": "python3"
  },
  "language_info": {
   "codemirror_mode": {
    "name": "ipython",
    "version": 3
   },
   "file_extension": ".py",
   "mimetype": "text/x-python",
   "name": "python",
   "nbconvert_exporter": "python",
   "pygments_lexer": "ipython3",
   "version": "3.10.16"
  }
 },
 "nbformat": 4,
 "nbformat_minor": 5
}
